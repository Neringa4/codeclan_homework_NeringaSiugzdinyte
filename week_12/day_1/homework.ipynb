{
 "cells": [
  {
   "cell_type": "markdown",
   "id": "e1dd8737",
   "metadata": {},
   "source": [
    "# MVP\n",
    "\n",
    "## Question 1"
   ]
  },
  {
   "cell_type": "code",
   "execution_count": 3,
   "id": "654ca958",
   "metadata": {},
   "outputs": [],
   "source": [
    "shopping = [\"spam\", \"ham\", \"eggs\", \"ham\"]"
   ]
  },
  {
   "cell_type": "code",
   "execution_count": 4,
   "id": "52cecbf1",
   "metadata": {},
   "outputs": [
    {
     "data": {
      "text/plain": [
       "'ham'"
      ]
     },
     "execution_count": 4,
     "metadata": {},
     "output_type": "execute_result"
    }
   ],
   "source": [
    "shopping[1]"
   ]
  },
  {
   "cell_type": "code",
   "execution_count": 5,
   "id": "23268c44",
   "metadata": {},
   "outputs": [
    {
     "data": {
      "text/plain": [
       "['spam', 'ham', 'eggs']"
      ]
     },
     "execution_count": 5,
     "metadata": {},
     "output_type": "execute_result"
    }
   ],
   "source": [
    "shopping[0:3]"
   ]
  },
  {
   "cell_type": "code",
   "execution_count": 6,
   "id": "5835ce59",
   "metadata": {
    "scrolled": false
   },
   "outputs": [
    {
     "data": {
      "text/plain": [
       "'ham'"
      ]
     },
     "execution_count": 6,
     "metadata": {},
     "output_type": "execute_result"
    }
   ],
   "source": [
    "shopping[-1]"
   ]
  },
  {
   "cell_type": "markdown",
   "id": "96020cff",
   "metadata": {},
   "source": [
    "## Question 2"
   ]
  },
  {
   "cell_type": "code",
   "execution_count": 7,
   "id": "337c9d5e",
   "metadata": {},
   "outputs": [],
   "source": [
    "stops = [\"Croy\", \"Cumbernauld\", \"Falkirk High\", \"Linlithgow\", \"Livingston\", \"Haymarket\"]"
   ]
  },
  {
   "cell_type": "code",
   "execution_count": 8,
   "id": "165b9118",
   "metadata": {},
   "outputs": [
    {
     "data": {
      "text/plain": [
       "['Croy',\n",
       " 'Cumbernauld',\n",
       " 'Falkirk High',\n",
       " 'Linlithgow',\n",
       " 'Livingston',\n",
       " 'Haymarket',\n",
       " 'Edinburgh Waverley']"
      ]
     },
     "execution_count": 8,
     "metadata": {},
     "output_type": "execute_result"
    }
   ],
   "source": [
    "stops.append(\"Edinburgh Waverley\")\n",
    "stops"
   ]
  },
  {
   "cell_type": "code",
   "execution_count": 9,
   "id": "260c0405",
   "metadata": {},
   "outputs": [
    {
     "data": {
      "text/plain": [
       "['Queen Street',\n",
       " 'Croy',\n",
       " 'Cumbernauld',\n",
       " 'Falkirk High',\n",
       " 'Linlithgow',\n",
       " 'Livingston',\n",
       " 'Haymarket',\n",
       " 'Edinburgh Waverley']"
      ]
     },
     "execution_count": 9,
     "metadata": {},
     "output_type": "execute_result"
    }
   ],
   "source": [
    "stops.insert(0, \"Queen Street\")\n",
    "stops"
   ]
  },
  {
   "cell_type": "code",
   "execution_count": 10,
   "id": "6b06b59d",
   "metadata": {},
   "outputs": [
    {
     "data": {
      "text/plain": [
       "1"
      ]
     },
     "execution_count": 10,
     "metadata": {},
     "output_type": "execute_result"
    }
   ],
   "source": [
    "stops.index(\"Croy\")"
   ]
  },
  {
   "cell_type": "code",
   "execution_count": 11,
   "id": "e3a7177e",
   "metadata": {},
   "outputs": [
    {
     "data": {
      "text/plain": [
       "['Queen Street',\n",
       " 'Croy',\n",
       " 'Cumbernauld',\n",
       " 'Falkirk High',\n",
       " 'Polmont',\n",
       " 'Linlithgow',\n",
       " 'Livingston',\n",
       " 'Haymarket',\n",
       " 'Edinburgh Waverley']"
      ]
     },
     "execution_count": 11,
     "metadata": {},
     "output_type": "execute_result"
    }
   ],
   "source": [
    "stops.insert(4, \"Polmont\")\n",
    "stops"
   ]
  },
  {
   "cell_type": "code",
   "execution_count": 12,
   "id": "89dc14de",
   "metadata": {},
   "outputs": [
    {
     "data": {
      "text/plain": [
       "['Queen Street',\n",
       " 'Croy',\n",
       " 'Cumbernauld',\n",
       " 'Falkirk High',\n",
       " 'Polmont',\n",
       " 'Linlithgow',\n",
       " 'Livingston',\n",
       " 'Edinburgh Waverley']"
      ]
     },
     "execution_count": 12,
     "metadata": {},
     "output_type": "execute_result"
    }
   ],
   "source": [
    "stops.remove(\"Haymarket\")\n",
    "stops"
   ]
  },
  {
   "cell_type": "code",
   "execution_count": 13,
   "id": "a0813f78",
   "metadata": {},
   "outputs": [
    {
     "data": {
      "text/plain": [
       "[]"
      ]
     },
     "execution_count": 13,
     "metadata": {},
     "output_type": "execute_result"
    }
   ],
   "source": [
    "stops.clear()\n",
    "stops"
   ]
  },
  {
   "cell_type": "markdown",
   "id": "7e66ecd8",
   "metadata": {},
   "source": [
    "## Question 3"
   ]
  },
  {
   "cell_type": "code",
   "execution_count": 14,
   "id": "859b6470",
   "metadata": {},
   "outputs": [],
   "source": [
    "person = {\"name\": \"Steph\", \"age\": 31, \"Instructor\" : True}"
   ]
  },
  {
   "cell_type": "code",
   "execution_count": 15,
   "id": "67bc2b62",
   "metadata": {},
   "outputs": [
    {
     "name": "stdout",
     "output_type": "stream",
     "text": [
      "dict_keys(['name', 'age', 'Instructor'])\n",
      "dict_values(['Steph', 31, True])\n",
      "dict_items([('name', 'Steph'), ('age', 31), ('Instructor', True)])\n"
     ]
    }
   ],
   "source": [
    "print(person.keys())\n",
    "print(person.values())\n",
    "print(person.items())"
   ]
  },
  {
   "cell_type": "code",
   "execution_count": 16,
   "id": "7bd70c8e",
   "metadata": {},
   "outputs": [
    {
     "data": {
      "text/plain": [
       "'Steph'"
      ]
     },
     "execution_count": 16,
     "metadata": {},
     "output_type": "execute_result"
    }
   ],
   "source": [
    "person[\"name\"]"
   ]
  },
  {
   "cell_type": "code",
   "execution_count": 17,
   "id": "8aa37899",
   "metadata": {},
   "outputs": [
    {
     "data": {
      "text/plain": [
       "{'name': 'Steph', 'age': 31, 'Instructor': True, 'email': 'steph@codeclan.com'}"
      ]
     },
     "execution_count": 17,
     "metadata": {},
     "output_type": "execute_result"
    }
   ],
   "source": [
    "person.update({\"email\": \"steph@codeclan.com\"})\n",
    "person"
   ]
  },
  {
   "cell_type": "code",
   "execution_count": 18,
   "id": "3a81860a",
   "metadata": {},
   "outputs": [
    {
     "data": {
      "text/plain": [
       "{'name': 'Steph', 'age': 31, 'email': 'steph@codeclan.com'}"
      ]
     },
     "execution_count": 18,
     "metadata": {},
     "output_type": "execute_result"
    }
   ],
   "source": [
    "del person[\"Instructor\"]\n",
    "person"
   ]
  },
  {
   "cell_type": "markdown",
   "id": "622b7e26",
   "metadata": {},
   "source": [
    "## Question 4"
   ]
  },
  {
   "cell_type": "code",
   "execution_count": 166,
   "id": "7455831d",
   "metadata": {},
   "outputs": [],
   "source": [
    "numbers = [1, 6, 2, 2, 7, 1, 6, 13, 99, 7]"
   ]
  },
  {
   "cell_type": "code",
   "execution_count": 167,
   "id": "28e28c75",
   "metadata": {},
   "outputs": [
    {
     "name": "stdout",
     "output_type": "stream",
     "text": [
      "[6, 2, 2, 6]\n"
     ]
    }
   ],
   "source": [
    "print([num for num in numbers if num % 2 == 0])"
   ]
  },
  {
   "cell_type": "code",
   "execution_count": 168,
   "id": "3e893e07",
   "metadata": {},
   "outputs": [
    {
     "name": "stdout",
     "output_type": "stream",
     "text": [
      "98\n"
     ]
    }
   ],
   "source": [
    "print(max(numbers) - min(numbers))"
   ]
  },
  {
   "cell_type": "code",
   "execution_count": 169,
   "id": "33b8e93f",
   "metadata": {},
   "outputs": [
    {
     "name": "stdout",
     "output_type": "stream",
     "text": [
      "True\n"
     ]
    }
   ],
   "source": [
    "for index in range(0, len(numbers)):\n",
    "    if numbers[index] == 2 and numbers[(index + 1)] == 2:\n",
    "        print(True)"
   ]
  },
  {
   "cell_type": "code",
   "execution_count": 171,
   "id": "771eb580",
   "metadata": {},
   "outputs": [
    {
     "data": {
      "text/plain": [
       "2"
      ]
     },
     "execution_count": 171,
     "metadata": {},
     "output_type": "execute_result"
    }
   ],
   "source": [
    "it = iter(numbers)\n",
    "sum(x for x in it if x != 6 or 7 not in it)"
   ]
  },
  {
   "cell_type": "markdown",
   "id": "b2ddf6e1",
   "metadata": {},
   "source": [
    "## Question 5"
   ]
  },
  {
   "cell_type": "code",
   "execution_count": 24,
   "id": "45cf3964",
   "metadata": {},
   "outputs": [
    {
     "name": "stdout",
     "output_type": "stream",
     "text": [
      "Woo Python!\n"
     ]
    }
   ],
   "source": [
    "python_is_fun = True\n",
    "python_is_weird = True\n",
    "\n",
    "if python_is_fun == True or python_is_weird == True:\n",
    "    print(\"Woo Python!\")\n",
    "else:\n",
    "    print(\"Python is not for me!\")"
   ]
  },
  {
   "cell_type": "markdown",
   "id": "5d8ae578",
   "metadata": {},
   "source": [
    "## Question 6"
   ]
  },
  {
   "cell_type": "code",
   "execution_count": 25,
   "id": "c764a8e5",
   "metadata": {},
   "outputs": [],
   "source": [
    "chickens = [\n",
    "  { \"name\": \"Margaret\", \"age\": 2, \"eggs\": 0 },\n",
    "  { \"name\": \"Hetty\", \"age\": 1, \"eggs\": 2 },\n",
    "  { \"name\": \"Henrietta\", \"age\": 3, \"eggs\": 1 },\n",
    "  { \"name\": \"Audrey\", \"age\": 2, \"eggs\": 0 },\n",
    "  { \"name\": \"Mabel\", \"age\": 5, \"eggs\": 1 },\n",
    "]"
   ]
  },
  {
   "cell_type": "code",
   "execution_count": 26,
   "id": "ffaef8fe",
   "metadata": {},
   "outputs": [],
   "source": [
    "def collect_eggs(chicken_list):\n",
    "    \n",
    "    total_eggs = 0\n",
    "    \n",
    "    for chicken in chicken_list:\n",
    "        total_eggs += chicken[\"eggs\"]\n",
    "        chicken[\"eggs\"] = 0\n",
    "    \n",
    "    return(str(total_eggs) + \" eggs collected\")"
   ]
  },
  {
   "cell_type": "code",
   "execution_count": 27,
   "id": "e594d10b",
   "metadata": {},
   "outputs": [
    {
     "data": {
      "text/plain": [
       "'4 eggs collected'"
      ]
     },
     "execution_count": 27,
     "metadata": {},
     "output_type": "execute_result"
    }
   ],
   "source": [
    "collect_eggs(chickens)"
   ]
  },
  {
   "cell_type": "code",
   "execution_count": 28,
   "id": "accd5680",
   "metadata": {},
   "outputs": [
    {
     "data": {
      "text/plain": [
       "[{'name': 'Margaret', 'age': 2, 'eggs': 0},\n",
       " {'name': 'Hetty', 'age': 1, 'eggs': 0},\n",
       " {'name': 'Henrietta', 'age': 3, 'eggs': 0},\n",
       " {'name': 'Audrey', 'age': 2, 'eggs': 0},\n",
       " {'name': 'Mabel', 'age': 5, 'eggs': 0}]"
      ]
     },
     "execution_count": 28,
     "metadata": {},
     "output_type": "execute_result"
    }
   ],
   "source": [
    "chickens"
   ]
  },
  {
   "cell_type": "markdown",
   "id": "aba71bd6",
   "metadata": {},
   "source": [
    "# Extensions\n",
    "\n",
    "## Question 1"
   ]
  },
  {
   "cell_type": "code",
   "execution_count": 29,
   "id": "868f54fa",
   "metadata": {},
   "outputs": [],
   "source": [
    "united_kingdom = [\n",
    "  {\n",
    "    \"name\": \"Scotland\",\n",
    "    \"population\": 5295000,\n",
    "    \"capital\": \"Edinburgh\"\n",
    "  },\n",
    "  {\n",
    "    \"name\": \"Wales\",\n",
    "    \"population\": 3063000,\n",
    "    \"capital\": \"Swansea\"\n",
    "  },\n",
    "  {\n",
    "    \"name\": \"England\",\n",
    "    \"population\": 53010000,\n",
    "    \"capital\": \"London\"\n",
    "  }\n",
    "]"
   ]
  },
  {
   "cell_type": "code",
   "execution_count": 30,
   "id": "b37cc9b7",
   "metadata": {},
   "outputs": [
    {
     "data": {
      "text/plain": [
       "[{'name': 'Scotland', 'population': 5295000, 'capital': 'Edinburgh'},\n",
       " {'name': 'Wales', 'population': 3063000, 'capital': 'Cardiff'},\n",
       " {'name': 'England', 'population': 53010000, 'capital': 'London'}]"
      ]
     },
     "execution_count": 30,
     "metadata": {},
     "output_type": "execute_result"
    }
   ],
   "source": [
    "united_kingdom[1].update({\"capital\": \"Cardiff\"})\n",
    "united_kingdom"
   ]
  },
  {
   "cell_type": "code",
   "execution_count": 31,
   "id": "92ae5ef1",
   "metadata": {},
   "outputs": [],
   "source": [
    "ni_dict = {\n",
    "    \"name\": \"Northern Ireland\",\n",
    "    \"population\": 1811000,\n",
    "    \"capital\": \"Belfast\"\n",
    "}"
   ]
  },
  {
   "cell_type": "code",
   "execution_count": 32,
   "id": "97d988d7",
   "metadata": {},
   "outputs": [
    {
     "data": {
      "text/plain": [
       "[{'name': 'Scotland', 'population': 5295000, 'capital': 'Edinburgh'},\n",
       " {'name': 'Wales', 'population': 3063000, 'capital': 'Cardiff'},\n",
       " {'name': 'England', 'population': 53010000, 'capital': 'London'},\n",
       " {'name': 'Northern Ireland', 'population': 1811000, 'capital': 'Belfast'}]"
      ]
     },
     "execution_count": 32,
     "metadata": {},
     "output_type": "execute_result"
    }
   ],
   "source": [
    "united_kingdom.append(ni_dict)\n",
    "united_kingdom"
   ]
  },
  {
   "cell_type": "code",
   "execution_count": 33,
   "id": "dd49649e",
   "metadata": {},
   "outputs": [
    {
     "name": "stdout",
     "output_type": "stream",
     "text": [
      "Scotland\n",
      "Wales\n",
      "England\n",
      "Northern Ireland\n"
     ]
    }
   ],
   "source": [
    "for x in united_kingdom:\n",
    "    print(x[\"name\"])"
   ]
  },
  {
   "cell_type": "code",
   "execution_count": 172,
   "id": "30762ed4",
   "metadata": {},
   "outputs": [
    {
     "data": {
      "text/plain": [
       "63179000"
      ]
     },
     "execution_count": 172,
     "metadata": {},
     "output_type": "execute_result"
    }
   ],
   "source": [
    "sum([x[\"population\"] for x in united_kingdom])"
   ]
  },
  {
   "cell_type": "markdown",
   "id": "c21c37a4",
   "metadata": {},
   "source": [
    "## Question 2"
   ]
  },
  {
   "cell_type": "code",
   "execution_count": 34,
   "id": "b796bfa9",
   "metadata": {},
   "outputs": [],
   "source": [
    "users = {\n",
    "  \"Jonathan\": {\n",
    "    \"twitter\": \"jonnyt\",\n",
    "    \"lottery_numbers\": [6, 12, 49, 33, 45, 20],\n",
    "    \"home_town\": \"Stirling\",\n",
    "    \"pets\": [\n",
    "    {\n",
    "      \"name\": \"fluffy\",\n",
    "      \"species\": \"cat\"\n",
    "    },\n",
    "    {\n",
    "      \"name\": \"fido\",\n",
    "      \"species\": \"dog\"\n",
    "    },\n",
    "    {\n",
    "      \"name\": \"spike\",\n",
    "      \"species\": \"dog\"\n",
    "    }\n",
    "  ]\n",
    "  },\n",
    "  \"Erik\": {\n",
    "    \"twitter\": \"eriksf\",\n",
    "    \"lottery_numbers\": [18, 34, 8, 11, 24],\n",
    "    \"home_town\": \"Linlithgow\",\n",
    "    \"pets\": [\n",
    "    {\n",
    "      \"name\": \"nemo\",\n",
    "      \"species\": \"fish\"\n",
    "    },\n",
    "    {\n",
    "      \"name\": \"kevin\",\n",
    "      \"species\": \"fish\"\n",
    "    },\n",
    "    {\n",
    "      \"name\": \"spike\",\n",
    "      \"species\": \"dog\"\n",
    "    },\n",
    "    {\n",
    "      \"name\": \"rupert\",\n",
    "      \"species\": \"parrot\"\n",
    "    }\n",
    "  ]\n",
    "  },\n",
    "  \"Avril\": {\n",
    "    \"twitter\": \"bridgpally\",\n",
    "    \"lottery_numbers\": [12, 14, 33, 38, 9, 25],\n",
    "    \"home_town\": \"Dunbar\",\n",
    "    \"pets\": [\n",
    "      {\n",
    "        \"name\": \"monty\",\n",
    "        \"species\": \"snake\"\n",
    "      }\n",
    "    ]\n",
    "  }\n",
    "}"
   ]
  },
  {
   "cell_type": "code",
   "execution_count": 35,
   "id": "54425a1c",
   "metadata": {},
   "outputs": [
    {
     "data": {
      "text/plain": [
       "'jonnyt'"
      ]
     },
     "execution_count": 35,
     "metadata": {},
     "output_type": "execute_result"
    }
   ],
   "source": [
    "users[\"Jonathan\"][\"twitter\"]"
   ]
  },
  {
   "cell_type": "code",
   "execution_count": 36,
   "id": "1140eecc",
   "metadata": {},
   "outputs": [
    {
     "data": {
      "text/plain": [
       "'Linlithgow'"
      ]
     },
     "execution_count": 36,
     "metadata": {},
     "output_type": "execute_result"
    }
   ],
   "source": [
    "users[\"Erik\"][\"home_town\"]"
   ]
  },
  {
   "cell_type": "code",
   "execution_count": 37,
   "id": "db8489c9",
   "metadata": {},
   "outputs": [
    {
     "data": {
      "text/plain": [
       "[18, 34, 8, 11, 24]"
      ]
     },
     "execution_count": 37,
     "metadata": {},
     "output_type": "execute_result"
    }
   ],
   "source": [
    "users[\"Erik\"][\"lottery_numbers\"]"
   ]
  },
  {
   "cell_type": "code",
   "execution_count": 38,
   "id": "c59693db",
   "metadata": {},
   "outputs": [
    {
     "data": {
      "text/plain": [
       "'snake'"
      ]
     },
     "execution_count": 38,
     "metadata": {},
     "output_type": "execute_result"
    }
   ],
   "source": [
    "users[\"Avril\"][\"pets\"][0][\"species\"]"
   ]
  },
  {
   "cell_type": "code",
   "execution_count": 39,
   "id": "b7dc5617",
   "metadata": {},
   "outputs": [
    {
     "data": {
      "text/plain": [
       "8"
      ]
     },
     "execution_count": 39,
     "metadata": {},
     "output_type": "execute_result"
    }
   ],
   "source": [
    "min(users[\"Erik\"][\"lottery_numbers\"])"
   ]
  },
  {
   "cell_type": "code",
   "execution_count": 40,
   "id": "02d2867c",
   "metadata": {},
   "outputs": [
    {
     "data": {
      "text/plain": [
       "[12, 14, 38]"
      ]
     },
     "execution_count": 40,
     "metadata": {},
     "output_type": "execute_result"
    }
   ],
   "source": [
    "[num for num in users[\"Avril\"][\"lottery_numbers\"] if num % 2 == 0]"
   ]
  },
  {
   "cell_type": "code",
   "execution_count": 41,
   "id": "c95d125e",
   "metadata": {},
   "outputs": [
    {
     "data": {
      "text/plain": [
       "{'Jonathan': {'twitter': 'jonnyt',\n",
       "  'lottery_numbers': [6, 12, 49, 33, 45, 20],\n",
       "  'home_town': 'Stirling',\n",
       "  'pets': [{'name': 'fluffy', 'species': 'cat'},\n",
       "   {'name': 'fido', 'species': 'dog'},\n",
       "   {'name': 'spike', 'species': 'dog'}]},\n",
       " 'Erik': {'twitter': 'eriksf',\n",
       "  'lottery_numbers': [18, 34, 8, 11, 24, 7],\n",
       "  'home_town': 'Linlithgow',\n",
       "  'pets': [{'name': 'nemo', 'species': 'fish'},\n",
       "   {'name': 'kevin', 'species': 'fish'},\n",
       "   {'name': 'spike', 'species': 'dog'},\n",
       "   {'name': 'rupert', 'species': 'parrot'}]},\n",
       " 'Avril': {'twitter': 'bridgpally',\n",
       "  'lottery_numbers': [12, 14, 33, 38, 9, 25],\n",
       "  'home_town': 'Dunbar',\n",
       "  'pets': [{'name': 'monty', 'species': 'snake'}]}}"
      ]
     },
     "execution_count": 41,
     "metadata": {},
     "output_type": "execute_result"
    }
   ],
   "source": [
    "users[\"Erik\"][\"lottery_numbers\"].append(7)\n",
    "users"
   ]
  },
  {
   "cell_type": "code",
   "execution_count": 42,
   "id": "f528360a",
   "metadata": {},
   "outputs": [
    {
     "data": {
      "text/plain": [
       "{'Jonathan': {'twitter': 'jonnyt',\n",
       "  'lottery_numbers': [6, 12, 49, 33, 45, 20],\n",
       "  'home_town': 'Stirling',\n",
       "  'pets': [{'name': 'fluffy', 'species': 'cat'},\n",
       "   {'name': 'fido', 'species': 'dog'},\n",
       "   {'name': 'spike', 'species': 'dog'}]},\n",
       " 'Erik': {'twitter': 'eriksf',\n",
       "  'lottery_numbers': [18, 34, 8, 11, 24, 7],\n",
       "  'home_town': 'Edinburgh',\n",
       "  'pets': [{'name': 'nemo', 'species': 'fish'},\n",
       "   {'name': 'kevin', 'species': 'fish'},\n",
       "   {'name': 'spike', 'species': 'dog'},\n",
       "   {'name': 'rupert', 'species': 'parrot'}]},\n",
       " 'Avril': {'twitter': 'bridgpally',\n",
       "  'lottery_numbers': [12, 14, 33, 38, 9, 25],\n",
       "  'home_town': 'Dunbar',\n",
       "  'pets': [{'name': 'monty', 'species': 'snake'}]}}"
      ]
     },
     "execution_count": 42,
     "metadata": {},
     "output_type": "execute_result"
    }
   ],
   "source": [
    "users[\"Erik\"].update({\"home_town\": \"Edinburgh\"})\n",
    "users"
   ]
  },
  {
   "cell_type": "code",
   "execution_count": 43,
   "id": "288f9b6b",
   "metadata": {},
   "outputs": [
    {
     "data": {
      "text/plain": [
       "{'Jonathan': {'twitter': 'jonnyt',\n",
       "  'lottery_numbers': [6, 12, 49, 33, 45, 20],\n",
       "  'home_town': 'Stirling',\n",
       "  'pets': [{'name': 'fluffy', 'species': 'cat'},\n",
       "   {'name': 'fido', 'species': 'dog'},\n",
       "   {'name': 'spike', 'species': 'dog'}]},\n",
       " 'Erik': {'twitter': 'eriksf',\n",
       "  'lottery_numbers': [18, 34, 8, 11, 24, 7],\n",
       "  'home_town': 'Edinburgh',\n",
       "  'pets': [{'name': 'nemo', 'species': 'fish'},\n",
       "   {'name': 'kevin', 'species': 'fish'},\n",
       "   {'name': 'spike', 'species': 'dog'},\n",
       "   {'name': 'rupert', 'species': 'parrot'},\n",
       "   {'name': 'Fluffy', 'species': 'dog'}]},\n",
       " 'Avril': {'twitter': 'bridgpally',\n",
       "  'lottery_numbers': [12, 14, 33, 38, 9, 25],\n",
       "  'home_town': 'Dunbar',\n",
       "  'pets': [{'name': 'monty', 'species': 'snake'}]}}"
      ]
     },
     "execution_count": 43,
     "metadata": {},
     "output_type": "execute_result"
    }
   ],
   "source": [
    "users[\"Erik\"][\"pets\"].append({\"name\": \"Fluffy\", \"species\": \"dog\"})\n",
    "users"
   ]
  },
  {
   "cell_type": "code",
   "execution_count": 44,
   "id": "c8b064db",
   "metadata": {},
   "outputs": [],
   "source": [
    "users.update({\"Neringa\": {\n",
    "    \"home_town\": \"Edinburgh\",\n",
    "    \"pets\": [{\"name\": \"Snaige\", \n",
    "              \"species\": \"dog\"}]\n",
    "}})"
   ]
  },
  {
   "cell_type": "code",
   "execution_count": 45,
   "id": "e35f8521",
   "metadata": {},
   "outputs": [
    {
     "data": {
      "text/plain": [
       "{'Jonathan': {'twitter': 'jonnyt',\n",
       "  'lottery_numbers': [6, 12, 49, 33, 45, 20],\n",
       "  'home_town': 'Stirling',\n",
       "  'pets': [{'name': 'fluffy', 'species': 'cat'},\n",
       "   {'name': 'fido', 'species': 'dog'},\n",
       "   {'name': 'spike', 'species': 'dog'}]},\n",
       " 'Erik': {'twitter': 'eriksf',\n",
       "  'lottery_numbers': [18, 34, 8, 11, 24, 7],\n",
       "  'home_town': 'Edinburgh',\n",
       "  'pets': [{'name': 'nemo', 'species': 'fish'},\n",
       "   {'name': 'kevin', 'species': 'fish'},\n",
       "   {'name': 'spike', 'species': 'dog'},\n",
       "   {'name': 'rupert', 'species': 'parrot'},\n",
       "   {'name': 'Fluffy', 'species': 'dog'}]},\n",
       " 'Avril': {'twitter': 'bridgpally',\n",
       "  'lottery_numbers': [12, 14, 33, 38, 9, 25],\n",
       "  'home_town': 'Dunbar',\n",
       "  'pets': [{'name': 'monty', 'species': 'snake'}]},\n",
       " 'Neringa': {'home_town': 'Edinburgh',\n",
       "  'pets': [{'name': 'Snaige', 'species': 'dog'}]}}"
      ]
     },
     "execution_count": 45,
     "metadata": {},
     "output_type": "execute_result"
    }
   ],
   "source": [
    "users"
   ]
  }
 ],
 "metadata": {
  "kernelspec": {
   "display_name": "Python 3",
   "language": "python",
   "name": "python3"
  },
  "language_info": {
   "codemirror_mode": {
    "name": "ipython",
    "version": 3
   },
   "file_extension": ".py",
   "mimetype": "text/x-python",
   "name": "python",
   "nbconvert_exporter": "python",
   "pygments_lexer": "ipython3",
   "version": "3.8.8"
  },
  "varInspector": {
   "cols": {
    "lenName": 16,
    "lenType": 16,
    "lenVar": 40
   },
   "kernels_config": {
    "python": {
     "delete_cmd_postfix": "",
     "delete_cmd_prefix": "del ",
     "library": "var_list.py",
     "varRefreshCmd": "print(var_dic_list())"
    },
    "r": {
     "delete_cmd_postfix": ") ",
     "delete_cmd_prefix": "rm(",
     "library": "var_list.r",
     "varRefreshCmd": "cat(var_dic_list()) "
    }
   },
   "position": {
    "height": "614.85px",
    "left": "1627.4px",
    "right": "20px",
    "top": "171px",
    "width": "386px"
   },
   "types_to_exclude": [
    "module",
    "function",
    "builtin_function_or_method",
    "instance",
    "_Feature"
   ],
   "window_display": true
  }
 },
 "nbformat": 4,
 "nbformat_minor": 5
}
